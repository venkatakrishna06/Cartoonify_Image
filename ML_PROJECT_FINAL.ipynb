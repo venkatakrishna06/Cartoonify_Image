{
 "cells": [
  {
   "cell_type": "code",
   "execution_count": 1,
   "id": "3eff7c9c",
   "metadata": {},
   "outputs": [
    {
     "data": {
      "text/plain": [
       "['C:\\\\Users\\\\sride\\\\Downloads',\n",
       " 'C:\\\\Users\\\\sride\\\\anaconda3\\\\python38.zip',\n",
       " 'C:\\\\Users\\\\sride\\\\anaconda3\\\\DLLs',\n",
       " 'C:\\\\Users\\\\sride\\\\anaconda3\\\\lib',\n",
       " 'C:\\\\Users\\\\sride\\\\anaconda3',\n",
       " '',\n",
       " 'C:\\\\Users\\\\sride\\\\anaconda3\\\\lib\\\\site-packages',\n",
       " 'C:\\\\Users\\\\sride\\\\anaconda3\\\\lib\\\\site-packages\\\\locket-0.2.1-py3.8.egg',\n",
       " 'C:\\\\Users\\\\sride\\\\anaconda3\\\\lib\\\\site-packages\\\\win32',\n",
       " 'C:\\\\Users\\\\sride\\\\anaconda3\\\\lib\\\\site-packages\\\\win32\\\\lib',\n",
       " 'C:\\\\Users\\\\sride\\\\anaconda3\\\\lib\\\\site-packages\\\\Pythonwin',\n",
       " 'C:\\\\Users\\\\sride\\\\anaconda3\\\\lib\\\\site-packages\\\\IPython\\\\extensions',\n",
       " 'C:\\\\Users\\\\sride\\\\.ipython']"
      ]
     },
     "execution_count": 1,
     "metadata": {},
     "output_type": "execute_result"
    }
   ],
   "source": [
    "import os\n",
    "os.sys.path"
   ]
  },
  {
   "cell_type": "code",
   "execution_count": 2,
   "id": "f005b500",
   "metadata": {},
   "outputs": [
    {
     "name": "stdout",
     "output_type": "stream",
     "text": [
      "Requirement already satisfied: opencv-python in c:\\users\\sride\\anaconda3\\lib\\site-packages (4.5.3.56)\n",
      "Requirement already satisfied: numpy>=1.17.3 in c:\\users\\sride\\anaconda3\\lib\\site-packages (from opencv-python) (1.20.1)\n",
      "Note: you may need to restart the kernel to use updated packages.\n"
     ]
    }
   ],
   "source": [
    "pip install opencv-python"
   ]
  },
  {
   "cell_type": "code",
   "execution_count": 3,
   "id": "83fe8154",
   "metadata": {},
   "outputs": [
    {
     "name": "stdout",
     "output_type": "stream",
     "text": [
      "Requirement already satisfied: easygui in c:\\users\\sride\\anaconda3\\lib\\site-packages (0.98.2)\n",
      "Note: you may need to restart the kernel to use updated packages.\n"
     ]
    }
   ],
   "source": [
    "pip install easygui\n"
   ]
  },
  {
   "cell_type": "code",
   "execution_count": 4,
   "id": "0dd7e005",
   "metadata": {},
   "outputs": [],
   "source": [
    "import cv2 #for image processing\n",
    "import easygui #to open the filebox\n",
    "import numpy as np #to store image\n",
    "import imageio #to read image stored at particular path"
   ]
  },
  {
   "cell_type": "code",
   "execution_count": 5,
   "id": "e921da20",
   "metadata": {},
   "outputs": [],
   "source": [
    "import sys\n",
    "import matplotlib.pyplot as plt\n",
    "import os\n",
    "import tkinter as tk\n",
    "from tkinter import filedialog\n",
    "from tkinter import *\n",
    "from PIL import ImageTk, Image"
   ]
  },
  {
   "cell_type": "code",
   "execution_count": 6,
   "id": "3ac18378",
   "metadata": {},
   "outputs": [],
   "source": [
    "top=tk.Tk()\n",
    "top.geometry('400x400')\n",
    "top.title('Cartoonify Your Image !')\n",
    "top.configure(background='white')\n",
    "label=Label(top,background='#CDCDCD', font=('calibri',20,'bold'))"
   ]
  },
  {
   "cell_type": "code",
   "execution_count": 7,
   "id": "247518aa",
   "metadata": {},
   "outputs": [],
   "source": [
    "def onlive():\n",
    "    switch(1)"
   ]
  },
  {
   "cell_type": "code",
   "execution_count": 8,
   "id": "48561c2b",
   "metadata": {},
   "outputs": [],
   "source": [
    "def upload():\n",
    "    ImagePath=easygui.fileopenbox()\n",
    "    cartoonify(ImagePath)"
   ]
  },
  {
   "cell_type": "code",
   "execution_count": 9,
   "id": "85d49bd0",
   "metadata": {},
   "outputs": [],
   "source": [
    "def cartoonify(ImagePath):\n",
    "    # read the image\n",
    "    originalmage = cv2.imread(ImagePath)\n",
    "    originalmage = cv2.cvtColor(originalmage, cv2.COLOR_BGR2RGB)\n",
    "    #print(image)  # image is stored in form of numbers\n",
    "\n",
    "    # confirm that image is chosen\n",
    "    if originalmage is None:\n",
    "        print(\"Can not find any image. Choose appropriate file\")\n",
    "        sys.exit()\n",
    "\n",
    "    ReSized1 = cv2.resize(originalmage, (960, 540))\n",
    "    #plt.imshow(ReSized1, cmap='gray')\n",
    "\n",
    "\n",
    "    #converting an image to grayscale\n",
    "    grayScaleImage= cv2.cvtColor(originalmage, cv2.COLOR_BGR2GRAY)\n",
    "    ReSized2 = cv2.resize(grayScaleImage, (960, 540))\n",
    "    #plt.imshow(ReSized2, cmap='gray')\n",
    "\n",
    "\n",
    "    #applying median blur to smoothen an image\n",
    "    smoothGrayScale = cv2.medianBlur(grayScaleImage, 5)\n",
    "    ReSized3 = cv2.resize(smoothGrayScale, (960, 540))\n",
    "    #plt.imshow(ReSized3, cmap='gray')\n",
    "\n",
    "    #retrieving the edges for cartoon effect\n",
    "    #by using thresholding technique\n",
    "    getEdge = cv2.adaptiveThreshold(smoothGrayScale, 255, \n",
    "        cv2.ADAPTIVE_THRESH_MEAN_C, \n",
    "        cv2.THRESH_BINARY, 9, 9)\n",
    "\n",
    "    ReSized4 = cv2.resize(getEdge, (960, 540))\n",
    "    #plt.imshow(ReSized4, cmap='gray')\n",
    "\n",
    "    #applying bilateral filter to remove noise \n",
    "    #and keep edge sharp as required\n",
    "    colorImage = cv2.bilateralFilter(originalmage, 9, 300, 300)\n",
    "    ReSized5 = cv2.resize(colorImage, (960, 540))\n",
    "    #plt.imshow(ReSized5, cmap='gray')\n",
    "   \n",
    "\n",
    "\n",
    "    #masking edged image with our \"BEAUTIFY\" image\n",
    "    cartoonImage = cv2.bitwise_and(colorImage, colorImage, mask=getEdge)\n",
    "\n",
    "    ReSized6 = cv2.resize(cartoonImage, (960, 540))\n",
    "    #plt.imshow(ReSized6, cmap='gray')\n",
    "\n",
    "    # Plotting the whole transition\n",
    "    images=[ReSized1, ReSized2, ReSized3, ReSized4, ReSized5, ReSized6]\n",
    "\n",
    "    fig, axes = plt.subplots(3,2, figsize=(8,8), subplot_kw={'xticks':[], 'yticks':[]}, gridspec_kw=dict(hspace=0.1, wspace=0.1))\n",
    "    for i, ax in enumerate(axes.flat):\n",
    "        ax.imshow(images[i], cmap='gray')\n",
    "\n",
    "    save1=Button(top,text=\"Save cartoon image\",command=lambda: save(ReSized6, ImagePath),padx=30,pady=5)\n",
    "    save1.configure(background='#364156', foreground='white',font=('calibri',10,'bold'))\n",
    "    save1.pack(side=TOP,pady=50)\n",
    "    \n",
    "    plt.show()\n",
    "    "
   ]
  },
  {
   "cell_type": "code",
   "execution_count": 10,
   "id": "8a6482fb",
   "metadata": {},
   "outputs": [],
   "source": [
    "def save(ReSized6, ImagePath):\n",
    "    #saving an image using imwrite()\n",
    "    newName=\"cartoonified_Image\"\n",
    "    path1 = os.path.dirname(ImagePath)\n",
    "    extension=os.path.splitext(ImagePath)[1]\n",
    "    path = os.path.join(path1, newName+extension)\n",
    "    cv2.imwrite(path, cv2.cvtColor(ReSized6, cv2.COLOR_RGB2BGR))\n",
    "    I= \"Image saved by name \" + newName +\" at \"+ path\n",
    "    tk.messagebox.showinfo(title=None, message=I)\n",
    "\n",
    "\n",
    "\n",
    "\n"
   ]
  },
  {
   "cell_type": "code",
   "execution_count": 11,
   "id": "6af51d18",
   "metadata": {},
   "outputs": [],
   "source": [
    "load=Button(top,text=\"Cartoonify an Image\",command=upload,padx=10,pady=5)\n",
    "live=Button(top,text=\"Live Cartoonify\",command=onlive,padx=10,pady=5)\n",
    "load.configure(background='#364156', foreground='white',font=('calibri',10,'bold'))\n",
    "live.configure(background='#364156', foreground='white',font=('calibri',10,'bold'))\n",
    "live.pack(side=TOP,pady=20)\n",
    "load.pack(side=TOP,pady=20)\n"
   ]
  },
  {
   "cell_type": "code",
   "execution_count": 12,
   "id": "5f62526d",
   "metadata": {},
   "outputs": [],
   "source": [
    "def liv():\n",
    "    cap=cv2.VideoCapture(0)\n",
    "    while(1):\n",
    "        ret, frame =cap.read()\n",
    "        cv2.imshow('the_input_frame',frame)\n",
    "        gray = cv2.cvtColor(frame, cv2.COLOR_BGR2GRAY)\n",
    "\n",
    "        edges = cv2.Canny(frame,100,10)\n",
    "        cv2.imshow('edges',edges)\n",
    "\n",
    "        color = cv2.bilateralFilter(frame, d=7, sigmaColor=6,sigmaSpace=9)\n",
    "        def color_quantization(img, k):\n",
    "    # Defining input data for clustering\n",
    "              data = np.float32(img).reshape((-1, 3))\n",
    "    # Defining criteria\n",
    "              criteria = (cv2.TERM_CRITERIA_EPS + cv2.TERM_CRITERIA_MAX_ITER, 20, 1.0)\n",
    "    # Applying cv2.kmeans function\n",
    "              ret, label, center = cv2.kmeans(data, k, None, criteria, 10, cv2.KMEANS_RANDOM_CENTERS)\n",
    "              center = np.uint8(center)\n",
    "              result = center[label.flatten()]\n",
    "              result = result.reshape(img.shape)\n",
    "              return result\n",
    "\n",
    "        img_1 = color_quantization(frame, 2)\n",
    "        cartoon = cv2.bitwise_and(color, color, img_1,mask=edges)\n",
    "        cv2.imshow('cartoon',cartoon)\n",
    "    #     edges=cv2.Canny(frame,100,100)\n",
    "        k=cv2.waitKey(5) & 0xFF\n",
    "        if k== 27:\n",
    "            break\n",
    "    cap.release()\n",
    "\n",
    "\n",
    "def up():\n",
    "    top.mainloop()\n",
    "\n",
    "def default():\n",
    "    return \"choose correct option\"\n",
    "   \n",
    "switcher = {\n",
    "    1: liv,\n",
    "    2: up\n",
    "    }\n",
    "\n",
    "def switch(value):\n",
    "    return switcher.get(value, default)()\n",
    "switch(2)"
   ]
  },
  {
   "cell_type": "code",
   "execution_count": null,
   "id": "76d34ec4",
   "metadata": {},
   "outputs": [],
   "source": []
  },
  {
   "cell_type": "code",
   "execution_count": null,
   "id": "c7de183b",
   "metadata": {},
   "outputs": [],
   "source": []
  }
 ],
 "metadata": {
  "kernelspec": {
   "display_name": "Python 3",
   "language": "python",
   "name": "python3"
  },
  "language_info": {
   "codemirror_mode": {
    "name": "ipython",
    "version": 3
   },
   "file_extension": ".py",
   "mimetype": "text/x-python",
   "name": "python",
   "nbconvert_exporter": "python",
   "pygments_lexer": "ipython3",
   "version": "3.8.8"
  }
 },
 "nbformat": 4,
 "nbformat_minor": 5
}
